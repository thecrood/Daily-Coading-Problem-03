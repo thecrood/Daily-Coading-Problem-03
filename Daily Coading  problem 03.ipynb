{
 "cells": [
  {
   "cell_type": "markdown",
   "id": "d033bc68",
   "metadata": {},
   "source": [
    "# Daily Coading Problem 03"
   ]
  },
  {
   "cell_type": "markdown",
   "id": "5c0cfe3d",
   "metadata": {},
   "source": [
    "This problem was asked by Google.\n",
    "\n",
    "Given the root to a binary tree, implement serialize(root), which serializes the tree into a string, and deserialize(s), which deserializes the string back into the tree.\n",
    "\n"
   ]
  },
  {
   "cell_type": "markdown",
   "id": "9aad3bf3",
   "metadata": {},
   "source": [
    "# For example, given the following Node class\n"
   ]
  },
  {
   "cell_type": "raw",
   "id": "959c3a63",
   "metadata": {},
   "source": [
    "class Node:\n",
    "    def __init__(self, val, left=None, right=None):\n",
    "        self.val = val\n",
    "        self.left = left\n",
    "        self.right = right\n",
    "        \n"
   ]
  },
  {
   "cell_type": "markdown",
   "id": "a0b83d11",
   "metadata": {},
   "source": [
    "# The following test should pass:\n",
    "\n"
   ]
  },
  {
   "cell_type": "raw",
   "id": "76c710b7",
   "metadata": {},
   "source": [
    "node = Node('root', Node('left', Node('left.left')), Node('right'))\n",
    "assert deserialize(serialize(node)).left.left.val == 'left.left'"
   ]
  },
  {
   "cell_type": "markdown",
   "id": "f10486af",
   "metadata": {},
   "source": [
    "# Algorithm"
   ]
  },
  {
   "cell_type": "raw",
   "id": "3ada54ab",
   "metadata": {},
   "source": [
    "Create the binary tree using the Node class.\n",
    "\n",
    "Serializing:\n",
    "To serialize the tree into a string, I considered the null nodes as #.\n",
    "Starting from root, Depth First Search is used to traverse through the tree.\n",
    "If a node exists, its value is appended to the string and the left sub tree is traversed.\n",
    "This process continues until there are no more children left. Then a '#' is appended to the array and the recursive function is exited.\n",
    "Then the right sub tree is traversed and the same process is followed.\n",
    "The final resulting is string is returned.\n",
    "\n",
    "Deserializing:\n",
    "To deserialize a string to form a tree, the first word in the space seperated string is considered as the root.\n",
    "When a '#' is encountered, it is considered as a empty node and None is returned.\n",
    "In the remaining cases, a new node with the value as the word is formed and the remaining string is traversed.\n",
    "This function is called recursively until the end of the string is reached."
   ]
  },
  {
   "cell_type": "code",
   "execution_count": 4,
   "id": "89e2c812",
   "metadata": {},
   "outputs": [
    {
     "name": "stdout",
     "output_type": "stream",
     "text": [
      "String after serializing node: root left left.left # # # right # # \n",
      "Assert:  True\n"
     ]
    }
   ],
   "source": [
    "class Node:\n",
    "    def __init__(self, val, left=None, right=None):\n",
    "        self.val = val\n",
    "        self.left = left\n",
    "        self.right = right\n",
    "\n",
    "\n",
    "node = Node('root', Node('left', Node('left.left')), Node('right'))\n",
    "s = \"\"\n",
    "\n",
    "# serializing function, Preorder Traversal\n",
    "\n",
    "def serialize(node, s=\"\"):\n",
    "    if(not node):\n",
    "        s += \"# \"\n",
    "        return s\n",
    "    # First print the data of node\n",
    "    s += (str(node.val)+\" \")\n",
    "    # Then recur on left child\n",
    "    s = serialize(node.left, s=s)\n",
    "    # Finally recur on right child\n",
    "    s = serialize(node.right, s=s)\n",
    "    return s\n",
    "\n",
    "\n",
    "# deserializing function\n",
    "i = 0\n",
    "\n",
    "def deserialize(s):\n",
    "    global i\n",
    "    if s[i] == \"#\":\n",
    "        if(i < len(s)-2):\n",
    "            i += 2\n",
    "        return None\n",
    "    else:\n",
    "        space = s[i:].find(\" \")\n",
    "        sp = space+i\n",
    "        node = Node(s[i:sp])\n",
    "        i = sp+1\n",
    "        node.left = deserialize(s)\n",
    "        node.right = deserialize(s)\n",
    "        return node\n",
    "\n",
    "print(\"String after serializing node: \"+serialize(node))\n",
    "print(\"Assert: \",deserialize(serialize(node)).left.left.val == 'left.left')\n"
   ]
  },
  {
   "cell_type": "code",
   "execution_count": null,
   "id": "ef5aff69",
   "metadata": {},
   "outputs": [],
   "source": []
  }
 ],
 "metadata": {
  "kernelspec": {
   "display_name": "Python 3 (ipykernel)",
   "language": "python",
   "name": "python3"
  },
  "language_info": {
   "codemirror_mode": {
    "name": "ipython",
    "version": 3
   },
   "file_extension": ".py",
   "mimetype": "text/x-python",
   "name": "python",
   "nbconvert_exporter": "python",
   "pygments_lexer": "ipython3",
   "version": "3.8.10"
  }
 },
 "nbformat": 4,
 "nbformat_minor": 5
}
